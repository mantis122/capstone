{
 "cells": [
  {
   "cell_type": "code",
   "execution_count": null,
   "id": "84a440f5",
   "metadata": {},
   "outputs": [],
   "source": [
    "import pandas as pd\n",
    "import numpy as np\n",
    "\n",
    "from sklearn.linear_model import LogisticRegression\n",
    "from sklearn.neighbors import KNeighborsClassifier\n",
    "from sklearn.ensemble import RandomForestClassifier\n",
    "from sklearn.naive_bayes import GaussianNB\n",
    "#import xgboost as xgb\n",
    "from xgboost import XGBClassifier\n",
    "\n",
    "from sklearn.pipeline import Pipeline\n",
    "from sklearn.compose import ColumnTransformer\n",
    "from sklearn.preprocessing import FunctionTransformer\n",
    "from sklearn.preprocessing import StandardScaler\n",
    "\n",
    "\n",
    "import tensorflow\n",
    "import imblearn\n",
    "from imblearn.over_sampling import SMOTE\n",
    "from imblearn.pipeline import Pipeline\n",
    "\n",
    "import statsmodels.api as sm\n",
    "from statsmodels.stats.outliers_influence import variance_inflation_factor\n",
    "from sklearn.feature_selection import RFECV\n",
    "from sklearn.model_selection import cross_validate\n",
    "from sklearn.model_selection import StratifiedKFold\n",
    "from sklearn.model_selection import train_test_split, RandomizedSearchCV, GridSearchCV\n",
    "from sklearn.metrics import precision_score, roc_curve, auc\n",
    "from sklearn.metrics import recall_score, classification_report\n",
    "from sklearn.metrics import accuracy_score, confusion_matrix, precision_score, recall_score, ConfusionMatrixDisplay\n",
    "\n",
    "import matplotlib as mpl\n",
    "import matplotlib.pyplot as plt\n",
    "import seaborn as sns\n",
    "import seaborn.objects as so"
   ]
  },
  {
   "cell_type": "markdown",
   "id": "1d139883",
   "metadata": {},
   "source": [
    "Step 1: Import the data from the source csv files"
   ]
  },
  {
   "cell_type": "code",
   "execution_count": null,
   "id": "b7598735",
   "metadata": {},
   "outputs": [],
   "source": [
    "#Miles Kimball Transactional Data\n",
    "\n",
    "MK_df = pd.read_csv(r'C:\\Users\\nwhar\\Downloads\\MilesKimball.csv',\n",
    "                    names=['XREF ACCT NBR MZP', 'CustomerID', 'DivisionID', 'OrderID', 'OrderMethodID', 'CorpCategoryCode',\n",
    "                           'CorpClassificationCode', 'MediaTypeID', 'CampaignID', 'ProductID', 'SaleQty', 'Demand Merch Sales',\n",
    "                           'ShippingAmt', 'ProcessingFeeAmt', 'OrderReceivedDate'])"
   ]
  },
  {
   "cell_type": "code",
   "execution_count": null,
   "id": "0b2c670a",
   "metadata": {},
   "outputs": [],
   "source": [
    "#Walter Drake Transactional Data\n",
    "\n",
    "WD_df = pd.read_csv(r'C:\\Users\\nwhar\\Downloads\\WalterDrake.csv',\n",
    "                    names=['XREF ACCT NBR MZP', 'CustomerID', 'DivisionID', 'OrderID', 'OrderMethodID', 'CorpCategoryCode',\n",
    "                           'CorpClassificationCode', 'MediaTypeID', 'CampaignID', 'ProductID', 'SaleQty', 'Demand Merch Sales',\n",
    "                           'ShippingAmt', 'ProcessingFeeAmt', 'OrderReceivedDate'])"
   ]
  },
  {
   "cell_type": "code",
   "execution_count": null,
   "id": "1eefcff6",
   "metadata": {},
   "outputs": [],
   "source": [
    "#Promotional History - summarized by customerID, title, count of books received,\n",
    "#and the promo start date of the last book received for that title\n",
    "\n",
    "Promo_Hist = pd.read_csv(r'C:\\Users\\nwhar\\Downloads\\AllPromoHistData.csv', names=['XREF ACCT NBR MZP', 'PH DIV FROM OSPH',\n",
    "                                                                                        'Books Received', 'Max Date Received'])"
   ]
  },
  {
   "cell_type": "code",
   "execution_count": null,
   "id": "0f4f6306",
   "metadata": {},
   "outputs": [],
   "source": [
    "MKFL09_WDReceivers = pd.read_csv(r'C:\\Users\\nwhar\\Downloads\\MK09-WDCorpHotlines.csv', names=['XREF ACCT NBR MZP'])"
   ]
  },
  {
   "cell_type": "code",
   "execution_count": null,
   "id": "28a258ee",
   "metadata": {},
   "outputs": [],
   "source": [
    "All_MKFL09_Receivers = pd.read_csv(r'C:\\Users\\nwhar\\Downloads\\All24MKFL09Receivers.csv', names=['XREF ACCT NBR MZP'],\n",
    "                                  dtype='Int64')"
   ]
  },
  {
   "cell_type": "code",
   "execution_count": null,
   "id": "7dfeb88b",
   "metadata": {},
   "outputs": [],
   "source": [
    "#Convert datatype of the OrderReceivedDate variable to datetime from object\n",
    "\n",
    "MK_df['OrderReceivedDate'] = pd.to_datetime(MK_df['OrderReceivedDate'], format='%Y-%m-%d')\n",
    "WD_df['OrderReceivedDate'] = pd.to_datetime(WD_df['OrderReceivedDate'], format='%Y-%m-%d')\n",
    "Promo_Hist['Max Date Received'] = pd.to_datetime(Promo_Hist['Max Date Received'], format='%Y-%m-%d %H:%M:%S.%f')"
   ]
  },
  {
   "cell_type": "markdown",
   "id": "983a0d8e",
   "metadata": {},
   "source": [
    "Step 2: Feature Engineering & Data Cleaning"
   ]
  },
  {
   "cell_type": "code",
   "execution_count": null,
   "id": "36398569",
   "metadata": {},
   "outputs": [],
   "source": [
    "#Convert categorical variables to dummy variables.\n",
    "#Default datatype for dummy variables is boolean. Some models expect integers,\n",
    "#so specifying the dummy variables should be integers\n",
    "#Combining dummy variable candidate columns forces the original column name to be appended to the new name\n",
    "#This could be avoided by separately creating dummy variables from each column.\n",
    "\n",
    "MK_df = pd.get_dummies(MK_df, columns=['OrderMethodID', 'MediaTypeID'], dtype=int)\n",
    "WD_df = pd.get_dummies(WD_df, columns=['OrderMethodID', 'MediaTypeID'], dtype=int)"
   ]
  },
  {
   "cell_type": "code",
   "execution_count": null,
   "id": "b89a526d",
   "metadata": {},
   "outputs": [],
   "source": [
    "#Aggregating Miles Kimball transactional data to the customer level.\n",
    "#summing dollars, counting orders, taking the maximum value for each dummy variable as\n",
    "#we are interested in if the customer *ever* used the order method or channel (mediatypeID)\n",
    "#Cutting off the data at 08/26/2024 because that is promo start date for the September book\n",
    "#Any activity after that date will be assumed to indicate that their purchase was due to receiving the catalog\n",
    "\n",
    "MK_agg_df = MK_df.groupby('XREF ACCT NBR MZP').agg({'OrderReceivedDate' : ['nunique', 'max'],\n",
    "                                     'Demand Merch Sales': 'sum', 'ShippingAmt': 'sum', 'ProcessingFeeAmt': 'sum',\n",
    "                                     'OrderMethodID_PHONE' : 'max', 'OrderMethodID_MAIL' : 'max', 'OrderMethodID_INET' : 'max',\n",
    "                                     'OrderMethodID_EXCHANGE' : 'max', 'MediaTypeID_SEB' : 'max', 'MediaTypeID_EML' : 'max',\n",
    "                                     'MediaTypeID_SOL' : 'max', 'MediaTypeID_CAT' : 'max', 'MediaTypeID_AFF' : 'max',\n",
    "                                     'MediaTypeID_SEN' : 'max', 'MediaTypeID_CSE' : 'max','MediaTypeID_ENC' : 'max',\n",
    "                                     'MediaTypeID_ADV' : 'max', 'MediaTypeID_CLB' : 'max', 'MediaTypeID_OTH' : 'max',\n",
    "                                     'OrderMethodID_LEGACY' : 'max', 'MediaTypeID_ALT' : 'max', 'OrderMethodID_FAX' : 'max',\n",
    "                                     'MediaTypeID_SOC' : 'max', 'OrderMethodID_BILLING' : 'max', 'MediaTypeID_?' : 'max',\n",
    "                                     'MediaTypeID_FSI' : 'max', 'MediaTypeID_SMS' : 'max', 'MediaTypeID_CAL': 'max',\n",
    "                                     'MediaTypeID_AMP' : 'max'})"
   ]
  },
  {
   "cell_type": "code",
   "execution_count": null,
   "id": "6f2fe5dd",
   "metadata": {},
   "outputs": [],
   "source": [
    "#Aggregating Walter Drake transactional data with the same specifications as above\n",
    "\n",
    "WD_agg_df = WD_df[WD_df['OrderReceivedDate'] < '2024-08-26'].groupby('XREF ACCT NBR MZP').agg({'OrderReceivedDate' : ['nunique', 'max'],\n",
    "                                     'Demand Merch Sales': 'sum', 'ShippingAmt': 'sum', 'ProcessingFeeAmt': 'sum',\n",
    "                                     'OrderMethodID_PHONE' : 'max', 'OrderMethodID_MAIL' : 'max', 'OrderMethodID_INET' : 'max',\n",
    "                                     'OrderMethodID_EXCHANGE' : 'max', 'MediaTypeID_SEB' : 'max', 'MediaTypeID_EML' : 'max',\n",
    "                                     'MediaTypeID_SOL' : 'max', 'MediaTypeID_CAT' : 'max', 'MediaTypeID_AFF' : 'max',\n",
    "                                     'MediaTypeID_SEN' : 'max', 'MediaTypeID_CSE' : 'max','MediaTypeID_ENC' : 'max',\n",
    "                                     'MediaTypeID_ADV' : 'max', 'MediaTypeID_CLB' : 'max', 'MediaTypeID_OTH' : 'max',\n",
    "                                     'OrderMethodID_LEGACY' : 'max', 'MediaTypeID_ALT' : 'max', 'MediaTypeID_SOC' : 'max', 'OrderMethodID_BILLING' : 'max', 'MediaTypeID_?' : 'max',\n",
    "                                     'MediaTypeID_FSI' : 'max', 'MediaTypeID_SMS' : 'max', 'MediaTypeID_AMP' : 'max'})"
   ]
  },
  {
   "cell_type": "code",
   "execution_count": null,
   "id": "38c0d167",
   "metadata": {},
   "outputs": [],
   "source": [
    "#The aggregations created multi-level indices, which don't work very well with the models.\n",
    "#flattening out the indices makes them one level by combining the values from each level into a tuple on a single level.\n",
    "\n",
    "MK_agg_df.columns = MK_agg_df.columns.to_flat_index()\n",
    "WD_agg_df.columns = WD_agg_df.columns.to_flat_index()"
   ]
  },
  {
   "cell_type": "code",
   "execution_count": null,
   "id": "ceb19a19",
   "metadata": {},
   "outputs": [],
   "source": [
    "#Renaming the tuples to their original name or something informative, like \"Frequency\"\n",
    "\n",
    "MK_agg_df = MK_agg_df.rename(columns={('OrderReceivedDate', 'nunique') : 'Frequency', ('Demand Merch Sales', 'sum') : 'Demand',\n",
    "                       ('ShippingAmt', 'sum') : 'ShippingAmt', ('ProcessingFeeAmt', 'sum') : 'ProcessingFeeAmt',\n",
    "                       ('MediaTypeID_ALT', 'max'): 'ALT', ('OrderMethodID_FAX', 'max'): 'FAX', ('MediaTypeID_ADV', 'max'): 'ADV',\n",
    "                       ('OrderMethodID_INET', 'max'): 'INET', ('MediaTypeID_CAL', 'max'): 'CAL', ('MediaTypeID_ALT','max') : 'ALT',\n",
    "                       ('MediaTypeID_Loyalty','max') : 'Loyalty', ('OrderMethodID_PHONE','max') : 'PHONE',\n",
    "                       ('OrderMethodID_MAIL','max') : 'MAIL', ('OrderMethodID_EXCHANGE','max') : 'EXCHANGE',\n",
    "                       ('MediaTypeID_SEB','max') : 'SEB', ('MediaTypeID_EML','max') : 'EML', ('MediaTypeID_AMP', 'max'): 'AMP',\n",
    "                       ('MediaTypeID_SOL','max') : 'SOL', ('MediaTypeID_CAT','max') : 'CAT', ('MediaTypeID_AFF','max') : 'AFF',\n",
    "                       ('MediaTypeID_SEN','max') : 'SEN', ('MediaTypeID_CSE','max') : 'CSE', ('MediaTypeID_ENC','max') : 'ENC',\n",
    "                       ('MediaTypeID_CLB','max') : 'CLB', ('MediaTypeID_OTH','max') : 'OTH', ('MediaTypeID_SOC','max') : 'SOC',\n",
    "                       ('OrderMethodID_LEGACY','max') : 'LEGACY', ('MediaTypeID_SMS','max') : 'SMS', ('MediaTypeID_FSI', 'max'): 'FSI',\n",
    "                       ('OrderMethodID_BILLING','max') : 'BILLING', ('MediaTypeID_?','max') : 'Unknown'})"
   ]
  },
  {
   "cell_type": "code",
   "execution_count": null,
   "id": "1102ff47",
   "metadata": {},
   "outputs": [],
   "source": [
    "WD_agg_df = WD_agg_df.rename(columns={('OrderReceivedDate', 'nunique') : 'Frequency', ('Demand Merch Sales', 'sum') : 'Demand',\n",
    "                       ('ShippingAmt', 'sum') : 'ShippingAmt', ('ProcessingFeeAmt', 'sum') : 'ProcessingFeeAmt',\n",
    "                       ('MediaTypeID_ALT', 'max'): 'ALT', ('MediaTypeID_ADV', 'max'): 'ADV',\n",
    "                       ('OrderMethodID_INET', 'max'): 'INET', ('MediaTypeID_ALT','max') : 'ALT',\n",
    "                       ('MediaTypeID_Loyalty','max') : 'Loyalty', ('OrderMethodID_PHONE','max') : 'PHONE',\n",
    "                       ('OrderMethodID_MAIL','max') : 'MAIL', ('OrderMethodID_EXCHANGE','max') : 'EXCHANGE',\n",
    "                       ('MediaTypeID_SEB','max') : 'SEB', ('MediaTypeID_EML','max') : 'EML', ('MediaTypeID_AMP', 'max'): 'AMP',\n",
    "                       ('MediaTypeID_SOL','max') : 'SOL', ('MediaTypeID_CAT','max') : 'CAT', ('MediaTypeID_AFF','max') : 'AFF',\n",
    "                       ('MediaTypeID_SEN','max') : 'SEN', ('MediaTypeID_CSE','max') : 'CSE', ('MediaTypeID_ENC','max') : 'ENC',\n",
    "                       ('MediaTypeID_CLB','max') : 'CLB', ('MediaTypeID_OTH','max') : 'OTH', ('MediaTypeID_SOC','max') : 'SOC',\n",
    "                       ('OrderMethodID_LEGACY','max') : 'LEGACY', ('MediaTypeID_SMS','max') : 'SMS', ('MediaTypeID_FSI', 'max'): 'FSI',\n",
    "                       ('OrderMethodID_BILLING','max') : 'BILLING', ('MediaTypeID_?','max') : 'Unknown'})"
   ]
  },
  {
   "cell_type": "code",
   "execution_count": null,
   "id": "0e93c993",
   "metadata": {},
   "outputs": [],
   "source": [
    "#Running the aggregations made the [XREF ACCT NBR MZP] column into the index.\n",
    "#Resetting the index moves the column back into the data\n",
    "\n",
    "MK_agg_df.reset_index(inplace=True)\n",
    "WD_agg_df.reset_index(inplace=True)"
   ]
  },
  {
   "cell_type": "code",
   "execution_count": null,
   "id": "42d56ccb",
   "metadata": {},
   "outputs": [],
   "source": [
    "#Engineering new features from the data\n",
    "#Creating flags to indicate\n",
    "#    1) Whether the WD customer ever bought from MK\n",
    "#    2) Whether the WD customer received the September MK book\n",
    "#    3) Whether the WD customer who received the September MK book was mailed as a WD corporate customer\n",
    "#       (Otherwise they were mailed as an MK customer)\n",
    "#    4) Whether the WD customer purchased from the MK September book (This is the response variable)\n",
    "\n",
    "WD_agg_df['Prior MK Buyer'] = np.where(WD_agg_df.index.isin(MK_agg_df.index),1,0)\n",
    "WD_agg_df['MKFL09_Recvr'] = np.where(WD_agg_df.index.isin(All_MKFL09_Receivers['XREF ACCT NBR MZP']),1,0)\n",
    "WD_agg_df['WD_Corp_MK_Recvr'] = np.where(WD_agg_df.index.isin(MKFL09_WDReceivers['XREF ACCT NBR MZP']),1,0)\n",
    "WD_agg_df['MKFL09_Responder'] = np.where(WD_agg_df.index.isin(MK_df[MK_df['CampaignID'] == '24MKFL09']['XREF ACCT NBR MZP']),1,0)"
   ]
  },
  {
   "cell_type": "code",
   "execution_count": null,
   "id": "1fe58e72",
   "metadata": {},
   "outputs": [],
   "source": [
    "#Add the aggregated \"books received\" counts to the transactional data by customer, by title\n",
    "\n",
    "WD_agg_df = WD_agg_df.join(Promo_Hist.pivot(index=['XREF ACCT NBR MZP'], columns='PH DIV FROM OSPH',\n",
    "                                            values='Books Received').add_suffix('_books')).fillna(0)"
   ]
  },
  {
   "cell_type": "code",
   "execution_count": null,
   "id": "fb9e5848",
   "metadata": {},
   "outputs": [],
   "source": [
    "#Engineer new columns to help calculate \"Recency\"\n",
    "#Extracting the day, month, and year from the most recent order date for that customer\n",
    "\n",
    "MK_agg_df['Order Day'] = MK_agg_df[('OrderReceivedDate', 'max')].dt.day\n",
    "MK_agg_df['Order Month'] = MK_agg_df[('OrderReceivedDate', 'max')].dt.month\n",
    "MK_agg_df['Order Year'] = MK_agg_df[('OrderReceivedDate', 'max')].dt.year\n",
    "\n",
    "WD_agg_df['Order Day'] = WD_agg_df[('OrderReceivedDate', 'max')].dt.day\n",
    "WD_agg_df['Order Month'] = WD_agg_df[('OrderReceivedDate', 'max')].dt.month\n",
    "WD_agg_df['Order Year'] = WD_agg_df[('OrderReceivedDate', 'max')].dt.year"
   ]
  },
  {
   "cell_type": "code",
   "execution_count": null,
   "id": "4fc4e9db",
   "metadata": {},
   "outputs": [],
   "source": [
    "#Find the maximum order date of the data set. This will be considered day \"0\" for calculating recency\n",
    "\n",
    "WD_max_order_date = WD_agg_df[('OrderReceivedDate', 'max')].max()"
   ]
  },
  {
   "cell_type": "code",
   "execution_count": null,
   "id": "eb2f76ab",
   "metadata": {},
   "outputs": [],
   "source": [
    "#Engineer \"Recency\" column as number of months between the maximum order date in the data and the maximum order date\n",
    "#of the customer\n",
    "\n",
    "WD_agg_df['Recency'] = 12 * (WD_max_order_date.year - WD_agg_df['Order Year']) + (WD_max_order_date.month - WD_agg_df['Order Month']) + (WD_agg_df['Order Day'] <= WD_max_order_date.day).astype(int)"
   ]
  },
  {
   "cell_type": "code",
   "execution_count": null,
   "id": "54f7ddde",
   "metadata": {},
   "outputs": [],
   "source": [
    "#Make a subset of the full WD aggregate data for use in model building.\n",
    "#These are the WD customers who received the MK September catalog\n",
    "#These are the customers of interest\n",
    "\n",
    "WD_MKFL09_Rcvrs = WD_agg_df[WD_agg_df['MKFL09_Recvr'] == 1]"
   ]
  },
  {
   "cell_type": "code",
   "execution_count": null,
   "id": "b30659a4",
   "metadata": {},
   "outputs": [],
   "source": [
    "#This is a quick scatterplot of Demand vs. Frequency, showing September responders and non-responders\n",
    "#This is just to see if there are any outliers that could indicate data issues\n",
    "#We see there is one demand data point above $25,000 and two frequency data points above 200\n",
    "#These are likely customers that resell our products through Amazon or Ebay, or there was a data entry error\n",
    "#There is also one data point where demand is less than 0. This will get removed as it is likely an error\n",
    "#and will cause issues with log transforming the data later.\n",
    "\n",
    "DemandVFrequency = sns.scatterplot(data=WD_MKFL09_Rcvrs, x='Frequency', y='Demand', hue = 'MKFL09_Responder')\n",
    "\n",
    "plt.tight_layout()\n",
    "\n",
    "DemandVFrequency.figure.savefig(\"DemandVsFreq-Outliers.png\")"
   ]
  },
  {
   "cell_type": "code",
   "execution_count": null,
   "id": "aed06aa1",
   "metadata": {},
   "outputs": [],
   "source": [
    "#Remove data points discussed earlier\n",
    "\n",
    "WD_MKFL09_Rcvrs = WD_MKFL09_Rcvrs[~((WD_MKFL09_Rcvrs['Demand'] > 25000) | (WD_MKFL09_Rcvrs['Frequency'] > 190) | (WD_MKFL09_Rcvrs['Demand'] < 0))]"
   ]
  },
  {
   "cell_type": "code",
   "execution_count": null,
   "id": "36b1346d",
   "metadata": {},
   "outputs": [],
   "source": [
    "DemandVFrequency_noOutliers = sns.scatterplot(data=WD_MKFL09_Rcvrs, x='Frequency', y='Demand', hue = 'MKFL09_Responder')\n",
    "\n",
    "plt.tight_layout()\n",
    "\n",
    "DemandVFrequency_noOutliers.figure.savefig(\"DemandVsFreq-OutliersRemoved.png\")"
   ]
  },
  {
   "cell_type": "code",
   "execution_count": null,
   "id": "185850d6",
   "metadata": {},
   "outputs": [],
   "source": [
    "#Split the data set into explanatory and response variables\n",
    "\n",
    "X = WD_MKFL09_Rcvrs#.drop(columns=['MKFL09_Responder','WD_Corp_MK_Recvr', ('OrderReceivedDate', 'max'), 'CLB', 'Unknown',\n",
    "                    #        'Order Day', 'Order Month', 'Order Year', 'OTH', 'ENC', 'SMS', 'XREF ACCT NBR MZP'])\n",
    "\n"
   ]
  },
  {
   "cell_type": "code",
   "execution_count": null,
   "id": "76fbc4fd",
   "metadata": {},
   "outputs": [],
   "source": [
    "#Using Domain Expert knowledge to remove CLB and Unknown.\n",
    "#CLB was set up to track orders through our \"Buyer's Club\". This was discontinued several years ago.\n",
    "#Unknown is an error catch-all. Neither variable will be useful in a model.\n",
    "#Removing records containing these as a channel\n",
    "\n",
    "X = X[~((X['CLB'] == 1) | (X['Unknown'] == 1))]"
   ]
  },
  {
   "cell_type": "code",
   "execution_count": null,
   "id": "8c84b21d",
   "metadata": {},
   "outputs": [],
   "source": [
    "#Check for dummy variable columns where max value is 0\n",
    "#This means there were no orders using these columns and they can be removed\n",
    "\n",
    "X.max()[X.max() == 0].index"
   ]
  },
  {
   "cell_type": "code",
   "execution_count": null,
   "id": "df53abb1",
   "metadata": {},
   "outputs": [],
   "source": [
    "#Actually drop the dummy variable columns with no orders\n",
    "X = X.drop(X.max()[X.max() == 0].index, axis=1)"
   ]
  },
  {
   "cell_type": "code",
   "execution_count": null,
   "id": "1a947c6c",
   "metadata": {},
   "outputs": [],
   "source": [
    "X.select_dtypes(include='Int32').sum()"
   ]
  },
  {
   "cell_type": "code",
   "execution_count": null,
   "id": "bf383837",
   "metadata": {},
   "outputs": [],
   "source": [
    "#Dropping the response variable, extra columns used to calculate \"Recency\", and indicator columns that are all \"1\"\n",
    "\n",
    "y = X['MKFL09_Responder']\n",
    "\n",
    "X = X.drop(columns=['MKFL09_Responder','WD_Corp_MK_Recvr', ('OrderReceivedDate', 'max'),\n",
    "                            'Order Day', 'Order Month', 'Order Year', 'MKFL09_Recvr'])"
   ]
  },
  {
   "cell_type": "code",
   "execution_count": null,
   "id": "2552ced5",
   "metadata": {},
   "outputs": [],
   "source": [
    "#Check data for colinearity by checking Variance Inflation Factor (VIF)\n",
    "#Anything above 10 is highly correlated\n",
    "#anything between 5 and 10 should be reviewed\n",
    "#VIF expects an intercept (constant), which StatsModels does not provide, so we use \"sm.add_constant\" on our data\n",
    "\n",
    "vif = pd.DataFrame()\n",
    "vif['VIF'] = [variance_inflation_factor(sm.add_constant(X).values, i) for i in range(sm.add_constant(X).shape[1])]\n",
    "vif['variable'] = sm.add_constant(X).columns"
   ]
  },
  {
   "cell_type": "code",
   "execution_count": null,
   "id": "74670b7d",
   "metadata": {},
   "outputs": [],
   "source": [
    "print(vif)"
   ]
  },
  {
   "cell_type": "code",
   "execution_count": null,
   "id": "ecdaa41f",
   "metadata": {},
   "outputs": [],
   "source": [
    "#We need to remove \"OTH\" or \"BILLING\". Choosing \"OTH\", although it shouldn't matter.\n",
    "#They are both used for tracking Loyalty Program billing orders. They should both have the same values in the same records.\n",
    "\n"
   ]
  },
  {
   "cell_type": "code",
   "execution_count": null,
   "id": "946b3cab",
   "metadata": {},
   "outputs": [],
   "source": [
    "X = X.drop(columns=['OTH'])"
   ]
  },
  {
   "cell_type": "code",
   "execution_count": null,
   "id": "f25c77a4",
   "metadata": {},
   "outputs": [],
   "source": [
    "#Recheck VIF\n",
    "#All VIF are well below 5, so we should be good!\n",
    "\n",
    "vif = pd.DataFrame()\n",
    "vif['VIF'] = [variance_inflation_factor(sm.add_constant(X).values, i) for i in range(sm.add_constant(X).shape[1])]\n",
    "vif['variable'] = sm.add_constant(X).columns"
   ]
  },
  {
   "cell_type": "code",
   "execution_count": null,
   "id": "1a2af612",
   "metadata": {},
   "outputs": [],
   "source": [
    "print(vif)"
   ]
  },
  {
   "cell_type": "code",
   "execution_count": null,
   "id": "48ddbcec",
   "metadata": {},
   "outputs": [],
   "source": [
    "#Check distributions of numerical variables\n",
    "#they are almost all right-skewed, except for \"20_books\", which is left-skewed.\n",
    "#That makes sense, as \"20\" is the code for WD, so WD Customers would receive a lot of WD books.\n",
    "\n",
    "cont_ft = ['Frequency', 'Demand', 'ShippingAmt', 'ProcessingFeeAmt', 'Recency', '10_books', '20_books', '30_books',\n",
    "           '64_books', '90_books']\n",
    "\n",
    "for ft in cont_ft:\n",
    "    plt.figure()\n",
    "    sns.histplot(data=WD_MKFL09_Rcvrs, x=ft, bins='doane', log_scale=False)\n",
    "\n",
    "    plt.savefig(f'{ft}_histogram.png')\n",
    "    plt.show()\n",
    "    plt.close()"
   ]
  },
  {
   "cell_type": "code",
   "execution_count": null,
   "id": "102b87a0",
   "metadata": {},
   "outputs": [],
   "source": [
    "#Switch to log transformation of numerical variables to see whether the the variables will become more\n",
    "#normally distributed\n",
    "#Some do, some do not\n",
    "\n",
    "cont_ft = ['Frequency', 'Demand', 'ShippingAmt', 'ProcessingFeeAmt', 'Recency', '10_books', '20_books', '30_books',\n",
    "           '64_books', '90_books']\n",
    "\n",
    "for ft in cont_ft:\n",
    "    plt.figure()\n",
    "    sns.histplot(data=np.log1p(WD_MKFL09_Rcvrs[cont_ft]), x=ft, bins='doane', log_scale=False)\n",
    "\n",
    "    plt.savefig(f'{ft}_histogram_logScale.png')\n",
    "    plt.show()\n",
    "    plt.close()"
   ]
  },
  {
   "cell_type": "markdown",
   "id": "a9223fd3",
   "metadata": {},
   "source": [
    "Step 3: Set up the folds for k-fold double-cross validation and set up Pipeline Transformers"
   ]
  },
  {
   "cell_type": "code",
   "execution_count": null,
   "id": "57fb9046",
   "metadata": {},
   "outputs": [],
   "source": [
    "#inner_cv will run to find the optimal hyperparameters for each model\n",
    "#outer_cv will run each optimal model to find the best one\n",
    "\n",
    "inner_cv = StratifiedKFold(n_splits=10, shuffle=True)\n",
    "outer_cv = StratifiedKFold(n_splits=5, shuffle=True)"
   ]
  },
  {
   "cell_type": "code",
   "execution_count": null,
   "id": "522c47b7",
   "metadata": {},
   "outputs": [],
   "source": [
    "#This will log transform the numerical variables. The idea is to make the right-skewed data more normally distributed,\n",
    "#since this is expected by some of the models\n",
    "log_transformer = FunctionTransformer(np.log1p)\n",
    "log_column_transformer = ColumnTransformer([('log', log_transformer, ['Frequency','Demand','ShippingAmt','ProcessingFeeAmt','10_books','20_books','30_books','64_books','90_books','Recency'])],\n",
    "                      remainder = 'passthrough', verbose_feature_names_out=False).set_output(transform='pandas')"
   ]
  },
  {
   "cell_type": "code",
   "execution_count": null,
   "id": "b29990c9",
   "metadata": {},
   "outputs": [],
   "source": [
    "#scale the data so all numerical columns have the same magnitude. Many models expect this.\n",
    "scaler_column_transformer = ColumnTransformer([('scaler', StandardScaler(), ['Frequency','Demand','ShippingAmt','ProcessingFeeAmt','10_books','20_books','30_books','64_books','90_books','Recency'])],\n",
    "                                              remainder = 'passthrough', verbose_feature_names_out=False).set_output(transform='pandas')"
   ]
  },
  {
   "cell_type": "code",
   "execution_count": null,
   "id": "e3f73de0",
   "metadata": {},
   "outputs": [],
   "source": [
    "#This creates the instance of SMOTE that will be used in the Pipeline\n",
    "smt = SMOTE(random_state=42)"
   ]
  },
  {
   "cell_type": "code",
   "execution_count": null,
   "id": "0d5cff26",
   "metadata": {},
   "outputs": [],
   "source": [
    "#Split the data for the final evaluation\n",
    "#train data will be fed to the outer cross-validation layer, where it will be further split in the inner folds.\n",
    "#this test data is reserved to evaluate the final model.\n",
    "\n",
    "X_train, X_test, y_train, y_test = train_test_split(X, y, test_size=0.2, random_state=30)"
   ]
  },
  {
   "cell_type": "markdown",
   "id": "1884800a",
   "metadata": {},
   "source": [
    "Step 4: Set up Pipelines for each algorithm"
   ]
  },
  {
   "cell_type": "code",
   "execution_count": null,
   "id": "27668bad",
   "metadata": {},
   "outputs": [],
   "source": [
    "#Logisitic Regression Pipeline\n",
    "pipe_logreg = imblearn.pipeline.Pipeline(steps=[('log', log_column_transformer),('scaler', scaler_column_transformer),\n",
    "                                             ('smt', smt),\n",
    "                                             ('classifier', LogisticRegression(solver='newton-cholesky', penalty='l2'))])\n",
    "\n",
    "#Create a second logistic Regression Pipeline with balanced class weights for performance comparison\n",
    "#for methodology section\n",
    "pipe_log_reg_classWeights = Pipeline(steps=[('log', log_column_transformer),('scaler', scaler_column_transformer),\n",
    "                                            ('classifier', LogisticRegression(solver='newton-cholesky', penalty='l2',\n",
    "                                                                             class_weight='balanced'))])"
   ]
  },
  {
   "cell_type": "code",
   "execution_count": null,
   "id": "7505ad31",
   "metadata": {},
   "outputs": [],
   "source": [
    "#K-nearest neighbors Pipeline\n",
    "pipe_knn = imblearn.pipeline.Pipeline(steps=[('log', log_column_transformer),('scaler', scaler_column_transformer),\n",
    "                                             ('smt', smt),\n",
    "                                             ('classifier', KNeighborsClassifier())])\n",
    "\n",
    "#Second knn Pipeline to show the effect of removing class balancing\n",
    "pipe_knn_noSMOTE = imblearn.pipeline.Pipeline(steps=[('log', log_column_transformer),('scaler', scaler_column_transformer),\n",
    "                                             ('classifier', KNeighborsClassifier())])"
   ]
  },
  {
   "cell_type": "code",
   "execution_count": null,
   "id": "6ed0cfab",
   "metadata": {},
   "outputs": [],
   "source": [
    "#Random Forest Pipeline\n",
    "pipe_rf = imblearn.pipeline.Pipeline(steps=[('log', log_column_transformer),('scaler', scaler_column_transformer),\n",
    "                                             ('smt', smt),\n",
    "                                             ('classifier', RandomForestClassifier())])"
   ]
  },
  {
   "cell_type": "code",
   "execution_count": null,
   "id": "99af4786",
   "metadata": {},
   "outputs": [],
   "source": [
    "#Naive Bayes Pipeline\n",
    "pipe_nb = imblearn.pipeline.Pipeline(steps=[('log', log_column_transformer),('scaler', scaler_column_transformer),\n",
    "                                             ('smt', smt),\n",
    "                                             ('classifier', RandomForestClassifier())])"
   ]
  },
  {
   "cell_type": "code",
   "execution_count": null,
   "id": "5ff10d65",
   "metadata": {},
   "outputs": [],
   "source": [
    "#parameters for all models\n",
    "\n",
    "#logistic regression\n",
    "log_reg_params = {'classifier__C': [0.1, 0.5, 1.0]}\n",
    "\n",
    "\n",
    "#K-nearest Neighbors\n",
    "knn_params = {'classifier__n_neighbors': [5,10,20,50,100,200,500],\n",
    "             'classifier__weights': ['distance', 'uniform']}\n",
    "\n",
    "#Random Forest\n",
    "rf_params = {'classifier__n_estimators': [100, 300, 500],\n",
    "              'classifier__max_depth': [5,10, 20]}\n",
    "\n",
    "#Naive Bayes\n",
    "nb_params = {'classifier__var_smoothing': np.logspace(0,-9, num=100)}\n",
    "\n",
    "#XGBoost\n",
    "xg_params = {'classifier__min_child_weight': [1, 5, 10],\n",
    "             'classifier__gamma': [0.5, 1, 1.5, 2, 5],\n",
    "             'classifier__subsample': [0.6, 0.8, 1.0],\n",
    "             'classifier__colsample_bytree': [0.6, 0.8, 1.0],\n",
    "             'classifier__max_depth': [3, 5, 10],\n",
    "             'classifier__learning_rate': [0.01, 0.1, 0.2]\n",
    "            }\n",
    "\n"
   ]
  },
  {
   "cell_type": "code",
   "execution_count": null,
   "id": "b670cee3",
   "metadata": {},
   "outputs": [],
   "source": [
    "all_params = [log_reg_params, knn_params, rf_params, nb_params, xg_params]"
   ]
  },
  {
   "cell_type": "code",
   "execution_count": null,
   "id": "5a191a56",
   "metadata": {},
   "outputs": [],
   "source": [
    "#put all model instances in a list that will use the same pipeline (With SMOTE)\n",
    "all_models_smt = [LogisticRegression(solver='newton-cholesky', penalty='l2'),\n",
    "                  KNeighborsClassifier(n_jobs=-1),\n",
    "                  RandomForestClassifier(n_jobs=-1),\n",
    "                  GaussianNB(),\n",
    "                  XGBClassifier(n_estimators=600, objective='binary:logistic',\n",
    "                                    device='cuda')\n",
    "                 ]"
   ]
  },
  {
   "cell_type": "code",
   "execution_count": null,
   "id": "0861ea0a",
   "metadata": {},
   "outputs": [],
   "source": [
    "for ii in range(0,all_params.size):\n",
    "    all_outer_scores = {}\n",
    "    for i, (train_index,test_index) in enumerate(outer_cv.split(X_train,y_train)):\n",
    "        gs_all = GridSearchCV(imblearn.pipeline.Pipeline(steps=[('log', log_column_transformer),('scaler', scaler_column_transformer),\n",
    "                                                                ('smt', smt), ('classifier', all_models_smt[ii])])\n",
    "                              param_grid=all_params[ii],\n",
    "                              scoring='f1_macro',\n",
    "                              cv=inner_cv)\n",
    "        gs_knn.fit(X_train.iloc[train_index], y_train.iloc[train_index])    \n",
    "    inner_scores = gs_knn.best_params_\n",
    "    \n",
    "    knn_outer_scores[i] = inner_scores"
   ]
  },
  {
   "cell_type": "code",
   "execution_count": null,
   "id": "c58ff2b3",
   "metadata": {},
   "outputs": [],
   "source": [
    "knn_params = {'classifier__n_neighbors': [5,10,20,50,100,200,500],\n",
    "             'classifier__weights': ['distance', 'uniform']}\n",
    "\n",
    "pipe_knn_grid = imblearn.pipeline.Pipeline(steps=[('log', log_column_transformer),('scaler', scaler_column_transformer),\n",
    "                                             ('smt', smt), ('classifier', KNeighborsClassifier())])\n",
    "\n",
    "gs_knn = GridSearchCV(pipe_knn_grid,\n",
    "                      param_grid=knn_params,\n",
    "                      scoring='f1_macro',\n",
    "                      cv=inner_cv)\n",
    "gs_knn.fit(X_train, y_train)"
   ]
  },
  {
   "cell_type": "code",
   "execution_count": null,
   "id": "122e0d55",
   "metadata": {},
   "outputs": [],
   "source": [
    "knn_best = gs_knn.best_estimator_"
   ]
  },
  {
   "cell_type": "code",
   "execution_count": null,
   "id": "a290fa4c",
   "metadata": {},
   "outputs": [],
   "source": [
    "gs_knn.cv_results_"
   ]
  },
  {
   "cell_type": "code",
   "execution_count": null,
   "id": "b2f739f7",
   "metadata": {},
   "outputs": [],
   "source": [
    "knn_preds = knn_best.predict(X_test)\n"
   ]
  },
  {
   "cell_type": "code",
   "execution_count": null,
   "id": "c0298eed",
   "metadata": {},
   "outputs": [],
   "source": [
    "accuracy = accuracy_score(y_test, knn_preds)\n",
    "report = classification_report(y_test, knn_preds)\n",
    "\n",
    "print(\"Accuracy:\", accuracy)\n",
    "print(\"\\nClassification Report:\")\n",
    "print(report)"
   ]
  },
  {
   "cell_type": "code",
   "execution_count": null,
   "id": "a1f5c8f3",
   "metadata": {},
   "outputs": [],
   "source": [
    "knn_probs = knn_best.predict_proba(X_test)"
   ]
  },
  {
   "cell_type": "code",
   "execution_count": null,
   "id": "4c07cb75",
   "metadata": {},
   "outputs": [],
   "source": [
    "fpr, tpr, thresholds = roc_curve(y_test, knn_probs[:,1])\n",
    "roc_auc = auc(fpr, tpr)\n",
    "\n",
    "plt.plot(fpr, tpr, color='darkorange', lw=2, label='ROC curve (area = %0.2f)' % roc_auc)\n",
    "plt.plot([0, 1], [0, 1], color='navy', lw=2, linestyle='--')\n",
    "plt.xlim([0.0, 1.0])\n",
    "plt.ylim([0.0, 1.05])\n",
    "plt.xlabel('False Positive Rate')\n",
    "plt.ylabel('True Positive Rate')\n",
    "plt.title('Receiver Operating Characteristic')\n",
    "plt.legend(loc=\"lower right\")\n",
    "plt.show()"
   ]
  },
  {
   "cell_type": "code",
   "execution_count": null,
   "id": "2fbf44da",
   "metadata": {},
   "outputs": [],
   "source": [
    "knn_outer_scores = {}\n",
    "for i, (train_index,test_index) in enumerate(outer_cv.split(X_train,y_train)):\n",
    "    pipe_knn_grid = imblearn.pipeline.Pipeline(steps=[('log', log_column_transformer),('scaler', scaler_column_transformer),\n",
    "                                             ('smt', smt), ('classifier', KNeighborsClassifier())])\n",
    "    gs_knn = GridSearchCV(pipe_knn_grid,\n",
    "                          param_grid=knn_params,\n",
    "                          scoring='f1_macro',\n",
    "                          cv=inner_cv)\n",
    "    gs_knn.fit(X_train.iloc[train_index], y_train.iloc[train_index])    \n",
    "    inner_scores = gs_knn.best_params_\n",
    "    \n",
    "    knn_outer_scores[i] = inner_scores"
   ]
  },
  {
   "cell_type": "code",
   "execution_count": null,
   "id": "cddee4ab",
   "metadata": {},
   "outputs": [],
   "source": [
    "knn_outer_scores"
   ]
  },
  {
   "cell_type": "code",
   "execution_count": null,
   "id": "e7f0aa24",
   "metadata": {},
   "outputs": [],
   "source": [
    "knn_best.named_steps['classifier'].get_params()"
   ]
  },
  {
   "cell_type": "code",
   "execution_count": null,
   "id": "d63d38a1",
   "metadata": {},
   "outputs": [],
   "source": [
    "logreg_outer_scores = {}\n",
    "for i, (train_index,test_index) in enumerate(outer_cv.split(X_train,y_train)):\n",
    "    gs_logreg = GridSearchCV(pipe_logreg,\n",
    "                          param_grid=log_reg_params,\n",
    "                          scoring='f1_macro',\n",
    "                          cv=inner_cv)\n",
    "    gs_logreg.fit(X_train.iloc[train_index], y_train.iloc[train_index])    \n",
    "    inner_scores = (gs_logreg.best_params_, gs_logreg.cv_results_['mean_test_score'])\n",
    "    \n",
    "    logreg_outer_scores[i] = inner_scores"
   ]
  },
  {
   "cell_type": "code",
   "execution_count": null,
   "id": "050bb827",
   "metadata": {},
   "outputs": [],
   "source": [
    "logreg_outer_scores"
   ]
  },
  {
   "cell_type": "code",
   "execution_count": null,
   "id": "fc03f476",
   "metadata": {},
   "outputs": [],
   "source": [
    "best_log_reg = imblearn.pipeline.Pipeline(steps=[('log', log_column_transformer),('scaler', scaler_column_transformer),\n",
    "                                             ('smt', smt),\n",
    "                                             ('classifier', LogisticRegression(solver='newton-cholesky', penalty='l2', C=0.1))])"
   ]
  },
  {
   "cell_type": "code",
   "execution_count": null,
   "id": "d37c53e5",
   "metadata": {},
   "outputs": [],
   "source": [
    "best_log_reg.fit(X_train, y_train)"
   ]
  },
  {
   "cell_type": "code",
   "execution_count": null,
   "id": "1c7b8ebf",
   "metadata": {},
   "outputs": [],
   "source": [
    "log_reg_preds = best_log_reg.predict(X_test)"
   ]
  },
  {
   "cell_type": "code",
   "execution_count": null,
   "id": "4eec0d1e",
   "metadata": {},
   "outputs": [],
   "source": [
    "log_reg_probs = best_log_reg.predict_proba(X_test)"
   ]
  },
  {
   "cell_type": "code",
   "execution_count": null,
   "id": "0873b4b8",
   "metadata": {},
   "outputs": [],
   "source": [
    "accuracy = accuracy_score(y_test, log_reg_preds)\n",
    "report = classification_report(y_test, log_reg_preds)\n",
    "\n",
    "print(\"Accuracy:\", accuracy)\n",
    "print(\"\\nClassification Report:\")\n",
    "print(report)"
   ]
  },
  {
   "cell_type": "code",
   "execution_count": null,
   "id": "28dd72bd",
   "metadata": {},
   "outputs": [],
   "source": [
    "fpr, tpr, thresholds = roc_curve(y_test, log_reg_probs[:,1])\n",
    "roc_auc = auc(fpr, tpr)\n",
    "\n",
    "plt.plot(fpr, tpr, color='darkorange', lw=2, label='ROC curve (area = %0.2f)' % roc_auc)\n",
    "plt.plot([0, 1], [0, 1], color='navy', lw=2, linestyle='--')\n",
    "plt.xlim([0.0, 1.0])\n",
    "plt.ylim([0.0, 1.05])\n",
    "plt.xlabel('False Positive Rate')\n",
    "plt.ylabel('True Positive Rate')\n",
    "plt.title('Receiver Operating Characteristic')\n",
    "plt.legend(loc=\"lower right\")\n",
    "plt.show()"
   ]
  },
  {
   "cell_type": "code",
   "execution_count": null,
   "id": "5d71b379",
   "metadata": {},
   "outputs": [],
   "source": [
    "knn_outer_scores_nolog = {}\n",
    "for i, (train_index,test_index) in enumerate(outer_cv.split(X_train,y_train)):\n",
    "    pipe_knn_grid_nolog = imblearn.pipeline.Pipeline(steps=[('scaler', scaler_column_transformer),\n",
    "                                             ('smt', smt), ('classifier', KNeighborsClassifier())])\n",
    "    gs_knn_nolog = GridSearchCV(pipe_knn_grid_nolog,\n",
    "                          param_grid=knn_params,\n",
    "                          scoring='f1_macro',\n",
    "                          cv=inner_cv)\n",
    "    gs_knn_nolog.fit(X_train.iloc[train_index], y_train.iloc[train_index])    \n",
    "    inner_scores_nolog = (gs_knn_nolog.best_params_, gs_knn_nolog.cv_results_['mean_test_score'])\n",
    "    \n",
    "    knn_outer_scores_nolog[i] = inner_scores_nolog"
   ]
  },
  {
   "cell_type": "code",
   "execution_count": null,
   "id": "bb7c1c2e",
   "metadata": {},
   "outputs": [],
   "source": [
    "knn_outer_scores_nolog"
   ]
  },
  {
   "cell_type": "code",
   "execution_count": null,
   "id": "08a48b55",
   "metadata": {},
   "outputs": [],
   "source": [
    "best_knn_nolog = imblearn.pipeline.Pipeline(steps=[('scaler', scaler_column_transformer),\n",
    "                                             ('smt', smt), ('classifier', KNeighborsClassifier(n_neighbors=5,weights='distance'))])"
   ]
  },
  {
   "cell_type": "code",
   "execution_count": null,
   "id": "6520ba32",
   "metadata": {},
   "outputs": [],
   "source": [
    "best_knn_nolog.fit(X_train, y_train)\n"
   ]
  },
  {
   "cell_type": "code",
   "execution_count": null,
   "id": "ddd55e01",
   "metadata": {},
   "outputs": [],
   "source": [
    "knn_preds_nolog = best_knn_nolog.predict(X_test)\n",
    "knn_preds_prob_nolog = best_knn_nolog.predict_proba(X_test)"
   ]
  },
  {
   "cell_type": "code",
   "execution_count": null,
   "id": "3873b879",
   "metadata": {},
   "outputs": [],
   "source": [
    "accuracy = accuracy_score(y_test, knn_preds_nolog)\n",
    "report = classification_report(y_test, knn_preds_nolog)\n",
    "\n",
    "print(\"Accuracy:\", accuracy)\n",
    "print(\"\\nClassification Report:\")\n",
    "print(report)"
   ]
  },
  {
   "cell_type": "code",
   "execution_count": null,
   "id": "4af3c5b9",
   "metadata": {},
   "outputs": [],
   "source": [
    "fpr, tpr, thresholds = roc_curve(y_test, knn_preds_prob_nolog[:,1])\n",
    "roc_auc = auc(fpr, tpr)\n",
    "\n",
    "plt.plot(fpr, tpr, color='darkorange', lw=2, label='ROC curve (area = %0.2f)' % roc_auc)\n",
    "plt.plot([0, 1], [0, 1], color='navy', lw=2, linestyle='--')\n",
    "plt.xlim([0.0, 1.0])\n",
    "plt.ylim([0.0, 1.05])\n",
    "plt.xlabel('False Positive Rate')\n",
    "plt.ylabel('True Positive Rate')\n",
    "plt.title('Receiver Operating Characteristic')\n",
    "plt.legend(loc=\"lower right\")\n",
    "plt.show()"
   ]
  },
  {
   "cell_type": "code",
   "execution_count": null,
   "id": "09b67b4b",
   "metadata": {},
   "outputs": [],
   "source": [
    "pipe_rf = imblearn.pipeline.Pipeline(steps=[('log', log_column_transformer),('scaler', scaler_column_transformer),\n",
    "                                             ('smt', smt),\n",
    "                                             ('classifier', RandomForestClassifier())])"
   ]
  },
  {
   "cell_type": "code",
   "execution_count": null,
   "id": "512761c7",
   "metadata": {},
   "outputs": [],
   "source": [
    "rf_outer_scores = {}\n",
    "for i, (train_index,test_index) in enumerate(outer_cv.split(X_train,y_train)):\n",
    "    pipe_rf_grid = imblearn.pipeline.Pipeline(steps=[('log', log_column_transformer),('scaler', scaler_column_transformer),\n",
    "                                             ('smt', smt),\n",
    "                                             ('classifier', RandomForestClassifier(n_jobs=-1))])\n",
    "    gs_rf = GridSearchCV(pipe_rf_grid,\n",
    "                          param_grid=rf_params,\n",
    "                          scoring='f1_macro',\n",
    "                          cv=inner_cv)\n",
    "    gs_rf.fit(X_train.iloc[train_index], y_train.iloc[train_index])    \n",
    "    inner_scores_rf = (gs_rf.best_params_, gs_rf.cv_results_['mean_test_score'])\n",
    "    \n",
    "    rf_outer_scores[i] = inner_scores_rf"
   ]
  },
  {
   "cell_type": "code",
   "execution_count": null,
   "id": "d6439ae7",
   "metadata": {},
   "outputs": [],
   "source": [
    "rf_outer_scores"
   ]
  },
  {
   "cell_type": "code",
   "execution_count": null,
   "id": "d9c09567",
   "metadata": {},
   "outputs": [],
   "source": [
    "best_rf = imblearn.pipeline.Pipeline(steps=[('log', log_column_transformer),('scaler', scaler_column_transformer),\n",
    "                                             ('smt', smt),\n",
    "                                             ('classifier', RandomForestClassifier(n_jobs=-1, max_depth=20, n_estimators = 100))])"
   ]
  },
  {
   "cell_type": "code",
   "execution_count": null,
   "id": "3bfc1348",
   "metadata": {},
   "outputs": [],
   "source": [
    "best_rf.fit(X_train, y_train)"
   ]
  },
  {
   "cell_type": "code",
   "execution_count": null,
   "id": "9f2edb37",
   "metadata": {},
   "outputs": [],
   "source": [
    "best_rf_preds = best_rf.predict(X_test)\n",
    "best_rf_probs = best_rf.predict_proba(X_test)"
   ]
  },
  {
   "cell_type": "code",
   "execution_count": null,
   "id": "17f3f9b3",
   "metadata": {},
   "outputs": [],
   "source": [
    "accuracy = accuracy_score(y_test, best_rf_preds)\n",
    "report = classification_report(y_test, best_rf_preds)\n",
    "\n",
    "print(\"Accuracy:\", accuracy)\n",
    "print(\"\\nClassification Report:\")\n",
    "print(report)"
   ]
  },
  {
   "cell_type": "code",
   "execution_count": null,
   "id": "ab9b7711",
   "metadata": {},
   "outputs": [],
   "source": [
    "fpr, tpr, thresholds = roc_curve(y_test, best_rf_probs[:,1])\n",
    "roc_auc = auc(fpr, tpr)\n",
    "\n",
    "plt.plot(fpr, tpr, color='darkorange', lw=2, label='ROC curve (area = %0.2f)' % roc_auc)\n",
    "plt.plot([0, 1], [0, 1], color='navy', lw=2, linestyle='--')\n",
    "plt.xlim([0.0, 1.0])\n",
    "plt.ylim([0.0, 1.05])\n",
    "plt.xlabel('False Positive Rate')\n",
    "plt.ylabel('True Positive Rate')\n",
    "plt.title('Receiver Operating Characteristic')\n",
    "plt.legend(loc=\"lower right\")\n",
    "plt.show()"
   ]
  },
  {
   "cell_type": "code",
   "execution_count": null,
   "id": "30408d01",
   "metadata": {},
   "outputs": [],
   "source": [
    "nb_outer_scores = {}\n",
    "for i, (train_index,test_index) in enumerate(outer_cv.split(X_train,y_train)):\n",
    "    pipe_nb_grid = imblearn.pipeline.Pipeline(steps=[('log', log_column_transformer),('scaler', scaler_column_transformer),\n",
    "                                             ('smt', smt),\n",
    "                                             ('classifier', GaussianNB())])\n",
    "    gs_nb = GridSearchCV(pipe_nb_grid,\n",
    "                          param_grid=nb_params,\n",
    "                          scoring='f1_macro',\n",
    "                          cv=inner_cv)\n",
    "    gs_nb.fit(X_train.iloc[train_index], y_train.iloc[train_index])    \n",
    "    inner_scores_nb = (gs_nb.best_params_, gs_nb.cv_results_['mean_test_score'])\n",
    "    \n",
    "    nb_outer_scores[i] = inner_scores_nb"
   ]
  },
  {
   "cell_type": "code",
   "execution_count": null,
   "id": "cd02cfc7",
   "metadata": {},
   "outputs": [],
   "source": [
    "nb_outer_scores"
   ]
  },
  {
   "cell_type": "code",
   "execution_count": null,
   "id": "cbed690f",
   "metadata": {},
   "outputs": [],
   "source": [
    "best_nb = imblearn.pipeline.Pipeline(steps=[('log', log_column_transformer),('scaler', scaler_column_transformer),\n",
    "                                             ('smt', smt),\n",
    "                                             ('classifier', GaussianNB(var_smoothing=1.0))])"
   ]
  },
  {
   "cell_type": "code",
   "execution_count": null,
   "id": "9699eb40",
   "metadata": {},
   "outputs": [],
   "source": [
    "best_nb.fit(X_train,y_train)"
   ]
  },
  {
   "cell_type": "code",
   "execution_count": null,
   "id": "3e84a351",
   "metadata": {},
   "outputs": [],
   "source": [
    "best_nb_preds = best_nb.predict(X_test)\n",
    "best_nb_probs = best_nb.predict_proba(X_test)"
   ]
  },
  {
   "cell_type": "code",
   "execution_count": null,
   "id": "69766447",
   "metadata": {},
   "outputs": [],
   "source": [
    "accuracy = accuracy_score(y_test, best_nb_preds)\n",
    "report = classification_report(y_test, best_nb_preds)\n",
    "\n",
    "print(\"Accuracy:\", accuracy)\n",
    "print(\"\\nClassification Report:\")\n",
    "print(report)"
   ]
  },
  {
   "cell_type": "code",
   "execution_count": null,
   "id": "f5b524f3",
   "metadata": {},
   "outputs": [],
   "source": [
    "fpr, tpr, thresholds = roc_curve(y_test, best_nb_probs[:,1])\n",
    "roc_auc = auc(fpr, tpr)\n",
    "\n",
    "plt.plot(fpr, tpr, color='darkorange', lw=2, label='ROC curve (area = %0.2f)' % roc_auc)\n",
    "plt.plot([0, 1], [0, 1], color='navy', lw=2, linestyle='--')\n",
    "plt.xlim([0.0, 1.0])\n",
    "plt.ylim([0.0, 1.05])\n",
    "plt.xlabel('False Positive Rate')\n",
    "plt.ylabel('True Positive Rate')\n",
    "plt.title('Receiver Operating Characteristic')\n",
    "plt.legend(loc=\"lower right\")\n",
    "plt.show()"
   ]
  },
  {
   "cell_type": "code",
   "execution_count": null,
   "id": "a376a556",
   "metadata": {},
   "outputs": [],
   "source": [
    "nb_outer_scores_noSMOTE = {}\n",
    "for i, (train_index,test_index) in enumerate(outer_cv.split(X_train,y_train)):\n",
    "    pipe_nb_grid_noSMOTE = imblearn.pipeline.Pipeline(steps=[('log', log_column_transformer),('scaler', scaler_column_transformer),\n",
    "                                             ('classifier', GaussianNB())])\n",
    "    gs_nb_noSMOTE = GridSearchCV(pipe_nb_grid_noSMOTE,\n",
    "                          param_grid=nb_params,\n",
    "                          scoring='f1_macro',\n",
    "                          cv=inner_cv)\n",
    "    gs_nb_noSMOTE.fit(X_train.iloc[train_index], y_train.iloc[train_index])    \n",
    "    inner_scores_nb_noSMOTE = (gs_nb_noSMOTE.best_params_, gs_nb_noSMOTE.cv_results_['mean_test_score'])\n",
    "    \n",
    "    nb_outer_scores_noSMOTE[i] = inner_scores_nb_noSMOTE"
   ]
  },
  {
   "cell_type": "code",
   "execution_count": null,
   "id": "a076a58e",
   "metadata": {},
   "outputs": [],
   "source": [
    "nb_outer_scores_noSMOTE"
   ]
  },
  {
   "cell_type": "code",
   "execution_count": null,
   "id": "f656c323",
   "metadata": {},
   "outputs": [],
   "source": [
    "best_nb_noSMOTE = imblearn.pipeline.Pipeline(steps=[('log', log_column_transformer),('scaler', scaler_column_transformer),\n",
    "                                             ('classifier', GaussianNB(var_smoothing=0.012328467394420659))])"
   ]
  },
  {
   "cell_type": "code",
   "execution_count": null,
   "id": "bb0a0ad9",
   "metadata": {},
   "outputs": [],
   "source": [
    "best_nb_noSMOTE.fit(X_train,y_train)"
   ]
  },
  {
   "cell_type": "code",
   "execution_count": null,
   "id": "8ab9439d",
   "metadata": {},
   "outputs": [],
   "source": [
    "best_nb_preds_noSMOTE = best_nb_noSMOTE.predict(X_test)\n",
    "best_nb_probs_noSMOTE = best_nb_noSMOTE.predict_proba(X_test)"
   ]
  },
  {
   "cell_type": "code",
   "execution_count": null,
   "id": "068396e3",
   "metadata": {},
   "outputs": [],
   "source": [
    "accuracy = accuracy_score(y_test, best_nb_preds_noSMOTE)\n",
    "report = classification_report(y_test, best_nb_preds_noSMOTE)\n",
    "\n",
    "print(\"Accuracy:\", accuracy)\n",
    "print(\"\\nClassification Report:\")\n",
    "print(report)"
   ]
  },
  {
   "cell_type": "code",
   "execution_count": null,
   "id": "5f0925b6",
   "metadata": {},
   "outputs": [],
   "source": [
    "fpr, tpr, thresholds = roc_curve(y_test, best_nb_probs_noSMOTE[:,1])\n",
    "roc_auc = auc(fpr, tpr)\n",
    "\n",
    "plt.plot(fpr, tpr, color='darkorange', lw=2, label='ROC curve (area = %0.2f)' % roc_auc)\n",
    "plt.plot([0, 1], [0, 1], color='navy', lw=2, linestyle='--')\n",
    "plt.xlim([0.0, 1.0])\n",
    "plt.ylim([0.0, 1.05])\n",
    "plt.xlabel('False Positive Rate')\n",
    "plt.ylabel('True Positive Rate')\n",
    "plt.title('Receiver Operating Characteristic')\n",
    "plt.legend(loc=\"lower right\")\n",
    "plt.show()"
   ]
  },
  {
   "cell_type": "code",
   "execution_count": null,
   "id": "3cd4e818",
   "metadata": {},
   "outputs": [],
   "source": [
    "xg_outer_scores = {}\n",
    "for i, (train_index,test_index) in enumerate(outer_cv.split(X_train,y_train)):\n",
    "    pipe_xg_grid = imblearn.pipeline.Pipeline(steps=[('log', log_column_transformer),('scaler', scaler_column_transformer),\n",
    "                                             ('classifier', XGBClassifier(n_estimators=600, objective='binary:logistic',\n",
    "                                                device='cuda'))])\n",
    "    gs_xg = GridSearchCV(pipe_xg_grid,\n",
    "                          param_grid=xg_params,\n",
    "                          scoring='f1_macro',\n",
    "                          cv=inner_cv)\n",
    "    gs_xg.fit(X_train.iloc[train_index], y_train.iloc[train_index])    \n",
    "    inner_scores_xg = (gs_xg.best_params_, gs_xg.cv_results_['mean_test_score'])\n",
    "    \n",
    "    xg_outer_scores[i] = inner_scores_xg"
   ]
  },
  {
   "cell_type": "code",
   "execution_count": null,
   "id": "54484fc6",
   "metadata": {},
   "outputs": [],
   "source": [
    "xg_outer_scores"
   ]
  },
  {
   "cell_type": "code",
   "execution_count": null,
   "id": "baa527c1",
   "metadata": {},
   "outputs": [],
   "source": [
    "best_xg = imblearn.pipeline.Pipeline(steps=[('log', log_column_transformer),('scaler', scaler_column_transformer),\n",
    "                                             ('classifier', XGBClassifier(n_estimators=600, objective='binary:logistic',\n",
    "                                                                          min_child_weight= 10,\n",
    "                                                                          gamma= 1.5,\n",
    "                                                                          subsample= 0.6,\n",
    "                                                                          colsample_bytree= 1,\n",
    "                                                                          max_depth= 5,\n",
    "                                                                          learning_rate=0.1 ))])"
   ]
  },
  {
   "cell_type": "code",
   "execution_count": null,
   "id": "bc4ed3b7",
   "metadata": {},
   "outputs": [],
   "source": [
    "best_xg.fit(X_train,y_train)"
   ]
  },
  {
   "cell_type": "code",
   "execution_count": null,
   "id": "f86c6d0b",
   "metadata": {},
   "outputs": [],
   "source": [
    "best_xg_preds = best_xg.predict(X_test)\n",
    "best_xg_probs = best_xg.predict_proba(X_test)"
   ]
  },
  {
   "cell_type": "code",
   "execution_count": null,
   "id": "fb3754f7",
   "metadata": {},
   "outputs": [],
   "source": [
    "accuracy = accuracy_score(y_test, best_xg_preds)\n",
    "report = classification_report(y_test, best_xg_preds)\n",
    "\n",
    "print(\"Accuracy:\", accuracy)\n",
    "print(\"\\nClassification Report:\")\n",
    "print(report)"
   ]
  },
  {
   "cell_type": "code",
   "execution_count": null,
   "id": "3e295b61",
   "metadata": {},
   "outputs": [],
   "source": [
    "fpr, tpr, thresholds = roc_curve(y_test, best_xg_probs[:,1])\n",
    "roc_auc = auc(fpr, tpr)\n",
    "\n",
    "plt.plot(fpr, tpr, color='darkorange', lw=2, label='ROC curve (area = %0.2f)' % roc_auc)\n",
    "plt.plot([0, 1], [0, 1], color='navy', lw=2, linestyle='--')\n",
    "plt.xlim([0.0, 1.0])\n",
    "plt.ylim([0.0, 1.05])\n",
    "plt.xlabel('False Positive Rate')\n",
    "plt.ylabel('True Positive Rate')\n",
    "plt.title('Receiver Operating Characteristic')\n",
    "plt.legend(loc=\"lower right\")\n",
    "plt.show()"
   ]
  },
  {
   "cell_type": "markdown",
   "id": "5a64463e",
   "metadata": {},
   "source": [
    "Objective 3: Run the model against new data to prove efficacy\n",
    "               New data is the October order data for any WD buyer who received an MK October book"
   ]
  },
  {
   "cell_type": "code",
   "execution_count": null,
   "id": "2426d9a9",
   "metadata": {},
   "outputs": [],
   "source": [
    "#Free up memory for the new dataframes\n",
    "#Need to minimize clutter to ensure there are enough resources to finish the analysis\n",
    "del MK_df\n",
    "del WD_df\n",
    "del Promo_Hist"
   ]
  },
  {
   "cell_type": "code",
   "execution_count": null,
   "id": "14c53a3a",
   "metadata": {},
   "outputs": [],
   "source": [
    "October_MK_df = pd.read_csv(r'C:\\Users\\nwhar\\Downloads\\24MK10Responders.csv',\n",
    "                    names=['XREF ACCT NBR MZP', 'CustomerID', 'DivisionID', 'OrderID', 'OrderMethodID', 'CorpCategoryCode',\n",
    "                           'CorpClassificationCode', 'MediaTypeID', 'CampaignID', 'ProductID', 'SaleQty', 'Demand Merch Sales',\n",
    "                           'ShippingAmt', 'ProcessingFeeAmt', 'OrderReceivedDate'])"
   ]
  },
  {
   "cell_type": "code",
   "execution_count": null,
   "id": "16da9dff",
   "metadata": {},
   "outputs": [],
   "source": [
    "Updated_WD_df = pd.read_csv(r'C:\\Users\\nwhar\\Downloads\\WD_updatedData.csv',\n",
    "                    names=['XREF ACCT NBR MZP', 'CustomerID', 'DivisionID', 'OrderID', 'OrderMethodID', 'CorpCategoryCode',\n",
    "                           'CorpClassificationCode', 'MediaTypeID', 'CampaignID', 'ProductID', 'SaleQty', 'Demand Merch Sales',\n",
    "                           'ShippingAmt', 'ProcessingFeeAmt', 'OrderReceivedDate'])"
   ]
  },
  {
   "cell_type": "code",
   "execution_count": null,
   "id": "2b78803f",
   "metadata": {},
   "outputs": [],
   "source": [
    "Updated_Promo_Hist = pd.read_csv(r'C:\\Users\\nwhar\\Downloads\\UpdatedPromoHistData.csv', names=['XREF ACCT NBR MZP', 'PH DIV FROM OSPH',\n",
    "                                                                                        'Books Received', 'Max Date Received'])"
   ]
  },
  {
   "cell_type": "code",
   "execution_count": null,
   "id": "cc8ae84a",
   "metadata": {},
   "outputs": [],
   "source": [
    "All_MKFL10_Receivers = pd.read_csv(r'C:\\Users\\nwhar\\Downloads\\24MK10Receivers.csv', names=['XREF ACCT NBR MZP'],\n",
    "                                  dtype='Int64')"
   ]
  },
  {
   "cell_type": "code",
   "execution_count": null,
   "id": "2e5b57f7",
   "metadata": {},
   "outputs": [],
   "source": [
    "Updated_WD_df = pd.get_dummies(Updated_WD_df, columns=['OrderMethodID', 'MediaTypeID'], dtype=int)"
   ]
  },
  {
   "cell_type": "code",
   "execution_count": null,
   "id": "56708350",
   "metadata": {},
   "outputs": [],
   "source": [
    "Updated_WD_agg_df = Updated_WD_df[Updated_WD_df['OrderReceivedDate'] < '2024-09-23'].groupby('XREF ACCT NBR MZP').agg({'OrderReceivedDate' : ['nunique', 'max'],\n",
    "                                     'Demand Merch Sales': 'sum', 'ShippingAmt': 'sum', 'ProcessingFeeAmt': 'sum',\n",
    "                                     'OrderMethodID_PHONE' : 'max', 'OrderMethodID_MAIL' : 'max', 'OrderMethodID_INET' : 'max',\n",
    "                                     'OrderMethodID_EXCHANGE' : 'max', 'MediaTypeID_SEB' : 'max', 'MediaTypeID_EML' : 'max',\n",
    "                                     'MediaTypeID_SOL' : 'max', 'MediaTypeID_CAT' : 'max', 'MediaTypeID_AFF' : 'max',\n",
    "                                     'MediaTypeID_SEN' : 'max', 'MediaTypeID_CSE' : 'max','MediaTypeID_ENC' : 'max',\n",
    "                                     'MediaTypeID_ADV' : 'max', 'MediaTypeID_CLB' : 'max', 'MediaTypeID_OTH' : 'max',\n",
    "                                     'OrderMethodID_LEGACY' : 'max', 'MediaTypeID_ALT' : 'max', 'MediaTypeID_SOC' : 'max', 'OrderMethodID_BILLING' : 'max', 'MediaTypeID_?' : 'max',\n",
    "                                     'MediaTypeID_FSI' : 'max', 'MediaTypeID_SMS' : 'max', 'MediaTypeID_AMP' : 'max'})"
   ]
  },
  {
   "cell_type": "code",
   "execution_count": null,
   "id": "2c55023f",
   "metadata": {},
   "outputs": [],
   "source": [
    "Updated_WD_agg_df.columns = Updated_WD_agg_df.columns.to_flat_index()"
   ]
  },
  {
   "cell_type": "code",
   "execution_count": null,
   "id": "1c2928fd",
   "metadata": {},
   "outputs": [],
   "source": [
    "Updated_WD_agg_df = Updated_WD_agg_df.rename(columns={('OrderReceivedDate', 'nunique') : 'Frequency', ('Demand Merch Sales', 'sum') : 'Demand',\n",
    "                       ('ShippingAmt', 'sum') : 'ShippingAmt', ('ProcessingFeeAmt', 'sum') : 'ProcessingFeeAmt',\n",
    "                       ('MediaTypeID_ALT', 'max'): 'ALT', ('MediaTypeID_ADV', 'max'): 'ADV',\n",
    "                       ('OrderMethodID_INET', 'max'): 'INET', ('MediaTypeID_ALT','max') : 'ALT',\n",
    "                       ('MediaTypeID_Loyalty','max') : 'Loyalty', ('OrderMethodID_PHONE','max') : 'PHONE',\n",
    "                       ('OrderMethodID_MAIL','max') : 'MAIL', ('OrderMethodID_EXCHANGE','max') : 'EXCHANGE',\n",
    "                       ('MediaTypeID_SEB','max') : 'SEB', ('MediaTypeID_EML','max') : 'EML', ('MediaTypeID_AMP', 'max'): 'AMP',\n",
    "                       ('MediaTypeID_SOL','max') : 'SOL', ('MediaTypeID_CAT','max') : 'CAT', ('MediaTypeID_AFF','max') : 'AFF',\n",
    "                       ('MediaTypeID_SEN','max') : 'SEN', ('MediaTypeID_CSE','max') : 'CSE', ('MediaTypeID_ENC','max') : 'ENC',\n",
    "                       ('MediaTypeID_CLB','max') : 'CLB', ('MediaTypeID_OTH','max') : 'OTH', ('MediaTypeID_SOC','max') : 'SOC',\n",
    "                       ('OrderMethodID_LEGACY','max') : 'LEGACY', ('MediaTypeID_SMS','max') : 'SMS', ('MediaTypeID_FSI', 'max'): 'FSI',\n",
    "                       ('OrderMethodID_BILLING','max') : 'BILLING', ('MediaTypeID_?','max') : 'Unknown'})"
   ]
  },
  {
   "cell_type": "code",
   "execution_count": null,
   "id": "625aba4e",
   "metadata": {},
   "outputs": [],
   "source": [
    "Updated_WD_agg_df = Updated_WD_agg_df.join(Updated_Promo_Hist.pivot(index=['XREF ACCT NBR MZP'], columns='PH DIV FROM OSPH',\n",
    "                                            values='Books Received').add_suffix('_books')).fillna(0) = Updated_WD_agg_df.join(Updated_Promo_Hist.pivot(index=['XREF ACCT NBR MZP'], columns='PH DIV FROM OSPH',\n",
    "                                            values='Books Received').add_suffix('_books')).fillna(0)"
   ]
  },
  {
   "cell_type": "code",
   "execution_count": null,
   "id": "994a8d73",
   "metadata": {},
   "outputs": [],
   "source": [
    "Updated_WD_agg_df['MKFL09_Responder'] = np.where(Updated_WD_agg_df.index.isin(October_MK_df['XREF ACCT NBR MZP']),1,0)"
   ]
  },
  {
   "cell_type": "code",
   "execution_count": null,
   "id": "8742a48c",
   "metadata": {},
   "outputs": [],
   "source": [
    "Updated_WD_agg_df['Order Day'] = Updated_WD_agg_df[('OrderReceivedDate', 'max')].dt.day\n",
    "Updated_WD_agg_df['Order Month'] = Updated_WD_agg_df[('OrderReceivedDate', 'max')].dt.month\n",
    "Updated_WD_agg_df['Order Year'] = Updated_WD_agg_df[('OrderReceivedDate', 'max')].dt.year"
   ]
  },
  {
   "cell_type": "code",
   "execution_count": null,
   "id": "8914ac70",
   "metadata": {},
   "outputs": [],
   "source": [
    "Updated_WD_max_order_date = Updated_WD_agg_df[('OrderReceivedDate', 'max')].max()"
   ]
  },
  {
   "cell_type": "code",
   "execution_count": null,
   "id": "a91d361c",
   "metadata": {},
   "outputs": [],
   "source": [
    "Updated_WD_agg_df['Recency'] = 12 * (Updated_WD_max_order_date.year - Updated_WD_agg_dfWD_agg_df['Order Year']) + (Updated_WD_max_order_date.month - Updated_WD_agg_df['Order Month']) + (Updated_WD_agg_df['Order Day'] <= Updated_WD_max_order_date.day).astype(int)"
   ]
  },
  {
   "cell_type": "code",
   "execution_count": null,
   "id": "a9b4c337",
   "metadata": {},
   "outputs": [],
   "source": []
  }
 ],
 "metadata": {
  "kernelspec": {
   "display_name": "Python 3 (ipykernel)",
   "language": "python",
   "name": "python3"
  },
  "language_info": {
   "codemirror_mode": {
    "name": "ipython",
    "version": 3
   },
   "file_extension": ".py",
   "mimetype": "text/x-python",
   "name": "python",
   "nbconvert_exporter": "python",
   "pygments_lexer": "ipython3",
   "version": "3.10.9"
  }
 },
 "nbformat": 4,
 "nbformat_minor": 5
}
